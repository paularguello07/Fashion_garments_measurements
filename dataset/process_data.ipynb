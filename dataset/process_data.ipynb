{
 "cells": [
  {
   "cell_type": "code",
   "execution_count": null,
   "metadata": {},
   "outputs": [],
   "source": [
    "from PIL import Image, ImageDraw, ImageFont\n",
    "import os\n",
    "import json\n",
    "from skimage.metrics import structural_similarity as ssim\n",
    "import numpy as np"
   ]
  },
  {
   "cell_type": "code",
   "execution_count": null,
   "metadata": {},
   "outputs": [],
   "source": [
    "def process_coords(coordinates, size = 250):\n",
    "    for coord in coordinates:\n",
    "        coord[0] = int(-3.5*coord[0] + size)\n",
    "        coord[1] = int(-3.5*coord[1] + size)\n",
    "    return coordinates\n",
    "\n",
    "def distance_between_points(p1, p2):\n",
    "    return ((p1[0]-p2[0])**2 + (p1[1]-p2[1])**2)**0.5"
   ]
  },
  {
   "cell_type": "code",
   "execution_count": null,
   "metadata": {},
   "outputs": [],
   "source": [
    "dataset_path = 'P:\\Documentos\\HDSP\\Fashion_garments_measurements\\dataset\\sewfactory'\n",
    "\n",
    "prueba_path = \"P:\\Documentos\\HDSP\\Fashion_garments_measurements\\dataset\\sewfactory\\dress_sleeveless_0I9DSISCUH\\static\\dress_sleeveless_0I9DSISCUH_specification.json\"\n",
    "\n",
    "with open(prueba_path, 'r') as file:\n",
    "    data = json.load(file)\n",
    "dress_part = \"skirt_front\"\n",
    "coordinates = data['pattern']['panels'][dress_part]['vertices']\n",
    "coordinates = process_coords(coordinates)\n",
    "font = ImageFont.truetype(\"arial.ttf\", 16)\n",
    "\n",
    "# new image with white background\n",
    "img = Image.new('RGB', (500, 500), color = (255, 255, 255))\n",
    "\n",
    "# draw the first two dots \n",
    "draw = ImageDraw.Draw(img)\n",
    "draw.ellipse((coordinates[0][0]-2, coordinates[0][1]-2, coordinates[0][0]+2, coordinates[0][1]+2), fill=(0,0,0), outline=(0,0,0))\n",
    "draw.ellipse((coordinates[1][0]-2, coordinates[1][1]-2, coordinates[1][0]+2, coordinates[1][1]+2), fill=(0,0,0), outline=(0,0,0))\n",
    "\n",
    "Y = []\n",
    "for i in range(len(coordinates)):\n",
    "    if coordinates[i][1] == coordinates[(i+1)%len(coordinates)][1]:\n",
    "        draw.line((coordinates[i][0], coordinates[i][1], coordinates[(i+1)%len(coordinates)][0], coordinates[(i+1)%len(coordinates)][1]), fill=(255,0,0), width=2)\n",
    "        Y.append(coordinates[i][1])\n",
    "    else:\n",
    "        draw.line((coordinates[i][0], coordinates[i][1], coordinates[(i+1)%len(coordinates)][0], coordinates[(i+1)%len(coordinates)][1]), fill=(0,0,0), width=2)\n",
    "    draw.text((coordinates[i][0], coordinates[i][1]), str(i), (0,0,0), font=font)\n",
    "    print(distance_between_points(coordinates[i], coordinates[(i+1)%len(coordinates)]))\n",
    "\n",
    "\n",
    "draw.line((250, Y[0], 250, Y[1]), fill=(0,255,0), width=2)\n",
    "print(distance_between_points([250, Y[0]], [250, Y[1]]))\n",
    "print(Y[1]-Y[0])\n",
    "draw = ImageDraw.Draw(img)\n",
    "draw.text((0, 0), dress_part, (0,0,0), font=font)\n",
    "\n",
    "img.show()\n"
   ]
  }
 ],
 "metadata": {
  "language_info": {
   "name": "python"
  }
 },
 "nbformat": 4,
 "nbformat_minor": 2
}
