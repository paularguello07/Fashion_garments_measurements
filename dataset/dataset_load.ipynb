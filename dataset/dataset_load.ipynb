{
 "cells": [
  {
   "cell_type": "code",
   "execution_count": 3,
   "metadata": {},
   "outputs": [
    {
     "name": "stdout",
     "output_type": "stream",
     "text": [
      "Combinando archivo: sewfactory.tar.gz.aa\n",
      "Combinando archivo: sewfactory.tar.gz.ab\n",
      "Combinando archivo: sewfactory.tar.gz.ac\n",
      "Combinando archivo: sewfactory.tar.gz.ad\n",
      "Combinando archivo: sewfactory.tar.gz.ae\n",
      "Combinando archivo: sewfactory.tar.gz.af\n",
      "Archivo combinado creado: sewfactory.tar.gz\n"
     ]
    }
   ],
   "source": [
    "import os\n",
    "\n",
    "# Definir los nombres de los archivos partes y el nombre del archivo final\n",
    "part_files = ['sewfactory.tar.gz.aa', 'sewfactory.tar.gz.ab', 'sewfactory.tar.gz.ac', 'sewfactory.tar.gz.ad', 'sewfactory.tar.gz.ae', 'sewfactory.tar.gz.af']\n",
    "output_file = 'sewfactory.tar.gz'\n",
    "\n",
    "path_data = 'P:/Documentos/HDSP/Sew_factory_dataset/'\n",
    "# Tamaño del bloque que se leerá (500MB por bloque)\n",
    "block_size = 1000 * 1024 * 1024  # 500MB\n",
    "\n",
    "# Combina los archivos en uno solo leyendo en bloques para ahorrar memoria\n",
    "with open(path_data+output_file, 'wb') as wfd:\n",
    "    for f in part_files:\n",
    "        print(f\"Combinando archivo: {f}\")\n",
    "        with open(path_data+f, 'rb') as fd:\n",
    "            while True:\n",
    "                block = fd.read(block_size)\n",
    "                if not block:\n",
    "                    break\n",
    "                wfd.write(block)\n",
    "\n",
    "print(f\"Archivo combinado creado: {output_file}\")\n"
   ]
  },
  {
   "cell_type": "code",
   "execution_count": 6,
   "metadata": {},
   "outputs": [
    {
     "name": "stdout",
     "output_type": "stream",
     "text": [
      "Archivos extraídos con éxito.\n"
     ]
    },
    {
     "ename": "",
     "evalue": "",
     "output_type": "error",
     "traceback": [
      "\u001b[1;31mThe Kernel crashed while executing code in the current cell or a previous cell. \n",
      "\u001b[1;31mPlease review the code in the cell(s) to identify a possible cause of the failure. \n",
      "\u001b[1;31mClick <a href='https://aka.ms/vscodeJupyterKernelCrash'>here</a> for more info. \n",
      "\u001b[1;31mView Jupyter <a href='command:jupyter.viewOutput'>log</a> for further details."
     ]
    }
   ],
   "source": [
    "import tarfile\n",
    "\n",
    "# Nombre del archivo tar.gz\n",
    "tar_gz_file = 'sewfactory.tar.gz'\n",
    "\n",
    "# Abrir el archivo tar.gz\n",
    "with tarfile.open(path_data+tar_gz_file) as tar:\n",
    "    # Extraer todos los contenidos en el directorio actual\n",
    "    tar.extractall()\n",
    "\n",
    "print(\"Archivos extraídos con éxito.\")\n"
   ]
  },
  {
   "cell_type": "code",
   "execution_count": null,
   "metadata": {},
   "outputs": [],
   "source": [
    "from PIL import Image\n",
    "import json\n",
    "\n",
    "# Cargar el archivo JSON con las coordenadas\n",
    "def load_coordinates(json_file):\n",
    "    with open(json_file, 'r') as file:\n",
    "        return json.load(file)\n",
    "\n",
    "# Extraer y guardar cada parte de la imagen\n",
    "def extract_parts(image_file, coordinates):\n",
    "    with Image.open(image_file) as img:\n",
    "        for part, coords in coordinates.items():\n",
    "            # Suponiendo que las coordenadas son (x1, y1, x2, y2)\n",
    "            cropped_image = img.crop((coords['x1'], coords['y1'], coords['x2'], coords['y2']))\n",
    "            cropped_image.save(f\"{part}.png\")\n",
    "\n",
    "# Ejemplo de uso\n",
    "coordinates = load_coordinates('tu_archivo.json')\n",
    "extract_parts('tu_imagen.png', coordinates)\n"
   ]
  },
  {
   "cell_type": "code",
   "execution_count": null,
   "metadata": {},
   "outputs": [],
   "source": [
    "from PIL import Image, ImageDraw, ImageFont"
   ]
  },
  {
   "cell_type": "code",
   "execution_count": null,
   "metadata": {},
   "outputs": [],
   "source": [
    "dataset_path = 'P:\\Documentos\\HDSP\\Fashion_garments_measurements\\dataset\\sewfactory'\n",
    "\n",
    "prueba_path = \"P:\\Documentos\\HDSP\\Fashion_garments_measurements\\dataset\\sewfactory\\dress_sleeveless_0I9DSISCUH\\static\\dress_sleeveless_0I9DSISCUH_specification.json\"\n",
    "\n",
    "with open(prueba_path, 'r') as file:\n",
    "    data = json.load(file)\n",
    "\n",
    "coordinates = data['pattern']['panels']['top_back']['vertices']\n",
    "\n",
    "# new image with white background\n",
    "img = Image.new('RGB', (500, 500), color = (255, 255, 255))\n",
    "for i in range(len(coordinates)):\n",
    "\n",
    "    draw = ImageDraw.Draw(img)\n",
    "    draw.line((coordinates[i][0], coordinates[i][1], coordinates[(i+1)%len(coordinates)][0], coordinates[(i+1)%len(coordinates)][1]), fill=(0,0,0), width=2)\n",
    "\n",
    "img.show()\n"
   ]
  },
  {
   "cell_type": "code",
   "execution_count": null,
   "metadata": {},
   "outputs": [],
   "source": [
    "dataset_path = 'P:\\Documentos\\HDSP\\Fashion_garments_measurements\\dataset\\sewfactory'\n",
    "\n",
    "for dirs_dresses in os.listdir(dataset_path):\n",
    "    for files in os.listdir(os.path.join(dataset_path, \"static\", dirs_dresses)):\n",
    "        if files.endswith('.json'):\n",
    "            ####"
   ]
  }
 ],
 "metadata": {
  "kernelspec": {
   "display_name": "pau_env_38",
   "language": "python",
   "name": "python3"
  },
  "language_info": {
   "codemirror_mode": {
    "name": "ipython",
    "version": 3
   },
   "file_extension": ".py",
   "mimetype": "text/x-python",
   "name": "python",
   "nbconvert_exporter": "python",
   "pygments_lexer": "ipython3",
   "version": "3.8.19"
  }
 },
 "nbformat": 4,
 "nbformat_minor": 2
}
