{
 "cells": [
  {
   "cell_type": "code",
   "execution_count": null,
   "metadata": {},
   "outputs": [],
   "source": [
    "import os\n",
    "\n",
    "# Definir los nombres de los archivos partes y el nombre del archivo final\n",
    "part_files = ['sewfactory.tar.gz.aa', 'sewfactory.tar.gz.ab']\n",
    "output_file = 'sewfactory.tar.gz'\n",
    "\n",
    "# Tamaño del bloque que se leerá (500MB por bloque)\n",
    "block_size = 500 * 1024 * 1024  # 500MB\n",
    "\n",
    "# Combina los archivos en uno solo leyendo en bloques para ahorrar memoria\n",
    "with open(output_file, 'wb') as wfd:\n",
    "    for f in part_files:\n",
    "        with open(f, 'rb') as fd:\n",
    "            while True:\n",
    "                block = fd.read(block_size)\n",
    "                if not block:\n",
    "                    break\n",
    "                wfd.write(block)\n",
    "\n",
    "print(f\"Archivo combinado creado: {output_file}\")\n"
   ]
  },
  {
   "cell_type": "code",
   "execution_count": null,
   "metadata": {},
   "outputs": [],
   "source": [
    "import tarfile\n",
    "\n",
    "# Nombre del archivo tar.gz\n",
    "tar_gz_file = 'sewfactory.tar.gz'\n",
    "\n",
    "# Abrir el archivo tar.gz\n",
    "with tarfile.open(tar_gz_file) as tar:\n",
    "    # Extraer todos los contenidos en el directorio actual\n",
    "    tar.extractall()\n",
    "\n",
    "print(\"Archivos extraídos con éxito.\")\n"
   ]
  },
  {
   "cell_type": "code",
   "execution_count": null,
   "metadata": {},
   "outputs": [],
   "source": [
    "from PIL import Image\n",
    "import json\n",
    "\n",
    "# Cargar el archivo JSON con las coordenadas\n",
    "def load_coordinates(json_file):\n",
    "    with open(json_file, 'r') as file:\n",
    "        return json.load(file)\n",
    "\n",
    "# Extraer y guardar cada parte de la imagen\n",
    "def extract_parts(image_file, coordinates):\n",
    "    with Image.open(image_file) as img:\n",
    "        for part, coords in coordinates.items():\n",
    "            # Suponiendo que las coordenadas son (x1, y1, x2, y2)\n",
    "            cropped_image = img.crop((coords['x1'], coords['y1'], coords['x2'], coords['y2']))\n",
    "            cropped_image.save(f\"{part}.png\")\n",
    "\n",
    "# Ejemplo de uso\n",
    "coordinates = load_coordinates('tu_archivo.json')\n",
    "extract_parts('tu_imagen.png', coordinates)\n"
   ]
  }
 ],
 "metadata": {
  "language_info": {
   "name": "python"
  }
 },
 "nbformat": 4,
 "nbformat_minor": 2
}
